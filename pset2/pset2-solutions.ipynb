{
 "cells": [
  {
   "cell_type": "markdown",
   "metadata": {},
   "source": [
    "# 18.S096 Pset 2 Solutions, January 2017\n",
    "\n",
    "The following are sample solutions to pset 2.  Of course, there are\n",
    "other ways to implement these functions.  The following solutions should be reasonably well optimized, but of course we hope that you come up with even better solutions.\n",
    "\n",
    "The solutions code is marked with `# SOLUTION` comments.  This way, if you just want to include the solutions in another notebook, you can do:\n",
    "```jl\n",
    "using NBInclude\n",
    "nbinclude(\"pset2-solutions.ipynb\", regex=r\"^#\\s*SOLUTION\")\n",
    "```\n",
    "via the [NBInclude](https://github.com/stevengj/NBInclude.jl) package."
   ]
  },
  {
   "cell_type": "code",
   "execution_count": 1,
   "metadata": {
    "collapsed": false
   },
   "outputs": [
    {
     "data": {
      "text/plain": [
       "@benchtime"
      ]
     },
     "execution_count": 1,
     "metadata": {},
     "output_type": "execute_result"
    }
   ],
   "source": [
    "using BenchmarkTools, Base.Test\n",
    "\n",
    "# provide a convenient macro; this will be included in\n",
    "# BenchmarkTools as @belapsed in the next release\n",
    "# (https://github.com/JuliaCI/BenchmarkTools.jl/pull/37)\n",
    "\"\"\"\n",
    "Like `@benchmark`, but returns only the minimum time in ns.\n",
    "\"\"\"\n",
    "macro benchtime(args...)\n",
    "    b = Expr(:macrocall, Symbol(\"@benchmark\"), map(esc, args)...)\n",
    "    :(time(minimum($b)))\n",
    "end"
   ]
  },
  {
   "cell_type": "markdown",
   "metadata": {},
   "source": [
    "# Problem 1: Continued Fractions\n",
    "\n",
    "Assuming the user provided the coefficents as numeric literals, it seems like it should be much better to simplify the continued fraction in to a ratio of two polynomials (a [rational function](https://en.wikipedia.org/wiki/Rational_function)), with precomputed coefficients.  That way, we will only have a single division operation (which is especially expensive for complex numbers), and we can use `@evalpoly` to evaluate the numerator and denominator polynomials.\n",
    "\n",
    "For non-literal coefficients, we could continue to just call our generic `cf` function as in the pset, but we'll at least unroll the loop to gain a tiny amount of speed:"
   ]
  },
  {
   "cell_type": "code",
   "execution_count": 2,
   "metadata": {
    "collapsed": false
   },
   "outputs": [
    {
     "data": {
      "text/plain": [
       "cf (generic function with 1 method)"
      ]
     },
     "execution_count": 2,
     "metadata": {},
     "output_type": "execute_result"
    }
   ],
   "source": [
    "# function form provided with the pset, for comparison:\n",
    "function cf(x, a...)\n",
    "    z = inv(one(x)) # initialize z this way for type stability\n",
    "    for i = length(a):-1:1\n",
    "        z = x + a[i] / z\n",
    "    end\n",
    "    return inv(z)\n",
    "end"
   ]
  },
  {
   "cell_type": "code",
   "execution_count": 3,
   "metadata": {
    "collapsed": false
   },
   "outputs": [
    {
     "data": {
      "text/plain": [
       "@cf (macro with 1 method)"
      ]
     },
     "execution_count": 3,
     "metadata": {},
     "output_type": "execute_result"
    }
   ],
   "source": [
    "# SOLUTION code used for non-literal coefficients:\n",
    "# we just unroll and inline the loop from above\n",
    "macro cf(x, a...)\n",
    "    if isempty(a)\n",
    "        return :(one(real($(esc(x)))))\n",
    "    elseif length(a) == 1\n",
    "        return :(inv($(esc(x)) + $(a[1])))\n",
    "    end\n",
    "    # build up expression in terms of let t=x\n",
    "    # (in case x involves some computation we don't want to repeat)\n",
    "    # (we use esc, below, in case any)\n",
    "    z = :(t + $(esc(a[end])))\n",
    "    for i = length(a)-1:-1:1\n",
    "        z = :(t + $(esc(a[i])) / $z)\n",
    "    end\n",
    "    quote\n",
    "        let t = $(esc(x))\n",
    "            inv($z)\n",
    "        end\n",
    "    end\n",
    "end"
   ]
  },
  {
   "cell_type": "code",
   "execution_count": 4,
   "metadata": {
    "collapsed": false
   },
   "outputs": [
    {
     "data": {
      "text/plain": [
       "\u001b[1m\u001b[32mTest Passed\n",
       "\u001b[0m  Expression: @cf(3,pi,e) ≈ cf(3,pi,e)\n",
       "   Evaluated: 0.2817381941258241 isapprox 0.2817381941258241"
      ]
     },
     "execution_count": 4,
     "metadata": {},
     "output_type": "execute_result"
    }
   ],
   "source": [
    "@test @cf(3, pi, e) ≈ cf(3, pi, e)"
   ]
  },
  {
   "cell_type": "markdown",
   "metadata": {},
   "source": [
    "We'll do a quick benchmark, putting it in a `sum` loop to make sure that the compiler doesn't just do all the calculations at compile-time:"
   ]
  },
  {
   "cell_type": "code",
   "execution_count": 5,
   "metadata": {
    "collapsed": false
   },
   "outputs": [
    {
     "data": {
      "text/plain": [
       "23.818947525342875"
      ]
     },
     "execution_count": 5,
     "metadata": {},
     "output_type": "execute_result"
    }
   ],
   "source": [
    "const α = 2.7\n",
    "cftest1_fast(x) = @cf x 2 α 4 5 6 7 8\n",
    "cftest1_slow(x) = cf(x, 2,α,4,5,6,7,8)\n",
    "x = rand(10^3)\n",
    "@benchtime(sum(cftest1_slow,$x)) / @benchtime(sum(cftest1_fast,$x))"
   ]
  },
  {
   "cell_type": "markdown",
   "metadata": {},
   "source": [
    "Wow, a factor of 20!"
   ]
  },
  {
   "cell_type": "markdown",
   "metadata": {},
   "source": [
    "Now, onto the case we will try to optimize further: the one where all the coefficients are constants known at parse time, i.e. numeric literals.\n",
    "\n",
    "How should we compute the numerator and denominator polynomials?  It seems like a lot of tedious algebra.  Fortunately, we have the SymPy package, which is *very good* at tedious algebra.  Maybe we can get it to do all of the work for us?  (Since the macro expansion occurs when the code is loaded, not when it is run, and can be precompiled in a module, the cost of the SymPy computation is irrelevant.)"
   ]
  },
  {
   "cell_type": "code",
   "execution_count": 6,
   "metadata": {
    "collapsed": false
   },
   "outputs": [
    {
     "data": {
      "text/latex": [
       "$$\\frac{1}{x + \\frac{3}{x + \\frac{4}{x + \\frac{5}{x + 6}}}}$$"
      ],
      "text/plain": [
       "        1        \n",
       "-----------------\n",
       "          3      \n",
       "x + -------------\n",
       "            4    \n",
       "    x + ---------\n",
       "              5  \n",
       "        x + -----\n",
       "            x + 6"
      ]
     },
     "execution_count": 6,
     "metadata": {},
     "output_type": "execute_result"
    }
   ],
   "source": [
    "using SymPy\n",
    "\n",
    "y = cf(Sym(:x),3,4,5,6)"
   ]
  },
  {
   "cell_type": "code",
   "execution_count": 7,
   "metadata": {
    "collapsed": false
   },
   "outputs": [
    {
     "data": {
      "text/latex": [
       "$$\\frac{1}{x + \\frac{3}{x + \\frac{4}{x + \\frac{5}{x + 6}}}}$$"
      ],
      "text/plain": [
       "        1        \n",
       "-----------------\n",
       "          3      \n",
       "x + -------------\n",
       "            4    \n",
       "    x + ---------\n",
       "              5  \n",
       "        x + -----\n",
       "            x + 6"
      ]
     },
     "execution_count": 7,
     "metadata": {},
     "output_type": "execute_result"
    }
   ],
   "source": [
    "# the macro should give the same expression\n",
    "@cf(Sym(:x),3,4,5,6)"
   ]
  },
  {
   "cell_type": "markdown",
   "metadata": {},
   "source": [
    "Some digging around through the [sympy manual on simplification](http://docs.sympy.org/dev/tutorial/simplification.html) turns up the `cancel` function, which does exactly what we want, along with `numer` and `denom` functions to get the numerator and denominator, and an `all_coeffs` function to get the coefficients:"
   ]
  },
  {
   "cell_type": "code",
   "execution_count": 8,
   "metadata": {
    "collapsed": false
   },
   "outputs": [
    {
     "data": {
      "text/latex": [
       "$$\\frac{x^{3} + 6 x^{2} + 9 x + 24}{x^{4} + 6 x^{3} + 12 x^{2} + 42 x + 15}$$"
      ],
      "text/plain": [
       "      3      2               \n",
       "     x  + 6*x  + 9*x + 24    \n",
       "-----------------------------\n",
       " 4      3       2            \n",
       "x  + 6*x  + 12*x  + 42*x + 15"
      ]
     },
     "execution_count": 8,
     "metadata": {},
     "output_type": "execute_result"
    }
   ],
   "source": [
    "r = cancel(y)"
   ]
  },
  {
   "cell_type": "code",
   "execution_count": 9,
   "metadata": {
    "collapsed": false
   },
   "outputs": [
    {
     "data": {
      "text/latex": [
       "$$x^{3} + 6 x^{2} + 9 x + 24$$"
      ],
      "text/plain": [
       " 3      2           \n",
       "x  + 6*x  + 9*x + 24"
      ]
     },
     "execution_count": 9,
     "metadata": {},
     "output_type": "execute_result"
    }
   ],
   "source": [
    "numer(r)"
   ]
  },
  {
   "cell_type": "code",
   "execution_count": 10,
   "metadata": {
    "collapsed": false
   },
   "outputs": [
    {
     "data": {
      "text/latex": [
       "$$x^{4} + 6 x^{3} + 12 x^{2} + 42 x + 15$$"
      ],
      "text/plain": [
       " 4      3       2            \n",
       "x  + 6*x  + 12*x  + 42*x + 15"
      ]
     },
     "execution_count": 10,
     "metadata": {},
     "output_type": "execute_result"
    }
   ],
   "source": [
    "denom(r)"
   ]
  },
  {
   "cell_type": "code",
   "execution_count": 11,
   "metadata": {
    "collapsed": false
   },
   "outputs": [
    {
     "data": {
      "text/plain": [
       "4-element Array{Any,1}:\n",
       "  1\n",
       "  6\n",
       "  9\n",
       " 24"
      ]
     },
     "execution_count": 11,
     "metadata": {},
     "output_type": "execute_result"
    }
   ],
   "source": [
    "coefs = all_coeffs(Poly(numer(r))) # need to convert to the Poly class first"
   ]
  },
  {
   "cell_type": "code",
   "execution_count": 12,
   "metadata": {
    "collapsed": false
   },
   "outputs": [
    {
     "data": {
      "text/plain": [
       "SymPy.Sym"
      ]
     },
     "execution_count": 12,
     "metadata": {},
     "output_type": "execute_result"
    }
   ],
   "source": [
    "# whoops, gives a symbolic expression, not a number:\n",
    "typeof(coefs[1])"
   ]
  },
  {
   "cell_type": "code",
   "execution_count": 13,
   "metadata": {
    "collapsed": false
   },
   "outputs": [
    {
     "data": {
      "text/plain": [
       "Int64"
      ]
     },
     "execution_count": 13,
     "metadata": {},
     "output_type": "execute_result"
    }
   ],
   "source": [
    "typeof(N(coefs[1])) # we can use sympy's N(...) to get a number"
   ]
  },
  {
   "cell_type": "code",
   "execution_count": 14,
   "metadata": {
    "collapsed": false
   },
   "outputs": [
    {
     "data": {
      "text/plain": [
       "4-element Array{Int64,1}:\n",
       "  1\n",
       "  6\n",
       "  9\n",
       " 24"
      ]
     },
     "execution_count": 14,
     "metadata": {},
     "output_type": "execute_result"
    }
   ],
   "source": [
    "N.(coefs)"
   ]
  },
  {
   "cell_type": "code",
   "execution_count": 15,
   "metadata": {
    "collapsed": false
   },
   "outputs": [
    {
     "data": {
      "text/plain": [
       "@cf (macro with 2 methods)"
      ]
     },
     "execution_count": 15,
     "metadata": {},
     "output_type": "execute_result"
    }
   ],
   "source": [
    "# SOLUTION:\n",
    "using SymPy\n",
    "macro cf(x, a::Number...)\n",
    "    if isempty(a)\n",
    "        return :(one(real($(esc(x)))))\n",
    "    elseif length(a) == 1\n",
    "        return :(inv($(esc(x)) + $(a[1])))\n",
    "    end\n",
    "    r = cancel(cf(Sym(:x), a...))\n",
    "    evalpoly = Symbol(\"@evalpoly\")\n",
    "    num_expr = Expr(:macrocall, evalpoly, :t, \n",
    "                    reverse(N.(all_coeffs(Poly(numer(r)))))...)\n",
    "    den_expr = Expr(:macrocall, evalpoly, :t, \n",
    "                    reverse(N.(all_coeffs(Poly(denom(r)))))...)\n",
    "    quote\n",
    "        let t = $(esc(x))\n",
    "            $num_expr / $den_expr\n",
    "        end\n",
    "    end\n",
    "end"
   ]
  },
  {
   "cell_type": "code",
   "execution_count": 16,
   "metadata": {
    "collapsed": false
   },
   "outputs": [
    {
     "data": {
      "text/plain": [
       "\u001b[1m\u001b[32mTest Passed\n",
       "\u001b[0m  Expression: @cf(3,4) == 1 / (3 + 4)\n",
       "   Evaluated: 0.14285714285714285 == 0.14285714285714285"
      ]
     },
     "execution_count": 16,
     "metadata": {},
     "output_type": "execute_result"
    }
   ],
   "source": [
    "@test @cf(1,2,3,4,5) ≈ cf(1, 2,3,4,5)\n",
    "@test @cf(3) == 1\n",
    "@test @cf(3,4) == 1/(3+4)"
   ]
  },
  {
   "cell_type": "markdown",
   "metadata": {},
   "source": [
    "Good, seems to work!  How fast is it?"
   ]
  },
  {
   "cell_type": "code",
   "execution_count": 17,
   "metadata": {
    "collapsed": false
   },
   "outputs": [
    {
     "data": {
      "text/plain": [
       "43.489668845450886"
      ]
     },
     "execution_count": 17,
     "metadata": {},
     "output_type": "execute_result"
    }
   ],
   "source": [
    "cftest_fast(x) = @cf x 2 3 4 5 6 7 8\n",
    "cftest_slow(x) = cf(x, 2,3,4,5,6,7,8)\n",
    "x = rand(10^3)\n",
    "@benchtime(sum(cftest_slow, $x)) / @benchtime(sum(cftest_fast, $x))"
   ]
  },
  {
   "cell_type": "markdown",
   "metadata": {},
   "source": [
    "Cool, a 40x speedup, even better than what we got by unrolling above!  For complex numbers, the speedup should be even bigger since complex divisions are so expensive:"
   ]
  },
  {
   "cell_type": "code",
   "execution_count": 18,
   "metadata": {
    "collapsed": false
   },
   "outputs": [
    {
     "data": {
      "text/plain": [
       "5.7465942355325375"
      ]
     },
     "execution_count": 18,
     "metadata": {},
     "output_type": "execute_result"
    }
   ],
   "source": [
    "z = rand(Complex{Float64},10^3)\n",
    "@benchtime(sum(cftest_slow, $z)) / @benchtime(sum(cftest_fast, $z))"
   ]
  },
  {
   "cell_type": "markdown",
   "metadata": {},
   "source": [
    "Hmm, surprisingly not.  What about the non-literal version?"
   ]
  },
  {
   "cell_type": "code",
   "execution_count": 19,
   "metadata": {
    "collapsed": false
   },
   "outputs": [
    {
     "data": {
      "text/plain": [
       "2.89918941711912"
      ]
     },
     "execution_count": 19,
     "metadata": {},
     "output_type": "execute_result"
    }
   ],
   "source": [
    "@benchtime(sum(cftest1_slow, $z)) / @benchtime(sum(cftest1_fast, $z))"
   ]
  },
  {
   "cell_type": "markdown",
   "metadata": {},
   "source": [
    "Okay, that's consistent, it doesn't get as much speedup."
   ]
  },
  {
   "cell_type": "markdown",
   "metadata": {},
   "source": [
    "# Problem 2: implementing broadcast\n",
    "\n",
    "I was hoping to define this as `mybroadcast{N}(f::Function, args::Vararg{Union{Number,AbstractVector},N})`, so that the number `N` of arguments is known to the compiler, which would then allow me to use `ntuple` with `Val{N}` as in lecture 3, but I ran into a performance issue with splatting ([#20196](https://github.com/JuliaLang/julia/issues/20196)).\n",
    "\n",
    "Instead, we'll implement it like the built-in `broadcast` function (in [broadcast.jl](https://github.com/JuliaLang/julia/blob/release-0.5/base/broadcast.jl)), and use [generated functions](http://docs.julialang.org/en/stable/manual/metaprogramming/#generated-functions).  Like macros, these allow you to generate arbitrary code expressions that are inserted into the function to be compiled.  Unlike macros, generated functions are invoked at *compile-time* when the *types* of the arguments are known, and take the *types* as parameters.  In particular."
   ]
  },
  {
   "cell_type": "code",
   "execution_count": 20,
   "metadata": {
    "collapsed": false
   },
   "outputs": [
    {
     "data": {
      "text/plain": [
       "mybroadcast (generic function with 3 methods)"
      ]
     },
     "execution_count": 20,
     "metadata": {},
     "output_type": "execute_result"
    }
   ],
   "source": [
    "# SOLUTION:\n",
    "\n",
    "# special cases that we don't handle in our generated function below\n",
    "# (omitting these would violate the assert calls below)\n",
    "mybroadcast(f::Function) = f()\n",
    "mybroadcast(f::Function, args::Number...) = f(args...)\n",
    "\n",
    "# rather than lots of \"if args[i] <: AbstractVector\" checks below,\n",
    "# it is more natural in Julia just to define methods that do this\n",
    "# via dispatch.\n",
    "myeltype{T<:AbstractVector}(a::Type{T}) = eltype(T)\n",
    "myeltype{T}(a::Type{T}) = T\n",
    "mylength(a::AbstractVector) = length(a)\n",
    "mylength(a) = -1\n",
    "Base.@propagate_inbounds mygetindex(a::AbstractVector, i) = a[i]\n",
    "@inline mygetindex(a, i) = a\n",
    "\n",
    "@generated function mybroadcast{F<:Function}(f::F, args::Union{Number,AbstractVector}...)\n",
    "    assert(!isempty(args)) # empty case should be handled above\n",
    "    T = promote_type(map(myeltype, args)...)\n",
    "    Ts = map(myeltype, args)\n",
    "    \n",
    "    # create the function-call expression for loop iteration i\n",
    "    fcall = Expr(:call, :f, ntuple(k -> :(mygetindex(args[$k], i)), length(args))...)\n",
    "    \n",
    "    quote\n",
    "        # compute the length of the result\n",
    "        # (at runtime, since length of arrays is not part of the type)\n",
    "        n = -1\n",
    "        for k in 1:length(args)\n",
    "            na = mylength(args[k])\n",
    "            if n == -1\n",
    "                n = na\n",
    "            elseif n != na != -1\n",
    "                throw(DimensionMismatch())\n",
    "            end\n",
    "        end\n",
    "        assert(n >= 0) # should have been at least one vector arg\n",
    "    \n",
    "        result = Array{$T}(n) # $T substitutes in the T value computed above\n",
    "        @inbounds @simd for i = 1:n\n",
    "            result[i] = $fcall # sub in the fcal expression computed above\n",
    "        end\n",
    "\n",
    "        return result\n",
    "    end\n",
    "end"
   ]
  },
  {
   "cell_type": "code",
   "execution_count": 21,
   "metadata": {
    "collapsed": false
   },
   "outputs": [
    {
     "data": {
      "text/plain": [
       "10-element Array{Int64,1}:\n",
       "  2\n",
       "  3\n",
       "  4\n",
       "  5\n",
       "  6\n",
       "  7\n",
       "  8\n",
       "  9\n",
       " 10\n",
       " 11"
      ]
     },
     "execution_count": 21,
     "metadata": {},
     "output_type": "execute_result"
    }
   ],
   "source": [
    "mybroadcast(+, 1, 1:10)"
   ]
  },
  {
   "cell_type": "code",
   "execution_count": 22,
   "metadata": {
    "collapsed": false
   },
   "outputs": [
    {
     "data": {
      "text/plain": [
       "3-element Array{Int64,1}:\n",
       "   12\n",
       "  103\n",
       " 1004"
      ]
     },
     "execution_count": 22,
     "metadata": {},
     "output_type": "execute_result"
    }
   ],
   "source": [
    "mybroadcast(+, 1, 1:3, [10,100,1000])"
   ]
  },
  {
   "cell_type": "markdown",
   "metadata": {},
   "source": [
    "Hooray, it seems to work!\n",
    "\n",
    "Now, let's check type inference with `@code_warntype`:"
   ]
  },
  {
   "cell_type": "code",
   "execution_count": 23,
   "metadata": {
    "collapsed": false
   },
   "outputs": [
    {
     "name": "stdout",
     "output_type": "stream",
     "text": [
      "Variables:\n",
      "  #self#::#mybroadcast\n",
      "  f::Base.#+\n",
      "  args::Tuple{Int64,UnitRange{Int64}}\n",
      "  n::Int64\n",
      "  result::Array{Int64,1}\n",
      "  r#322::UnitRange{Int64}\n",
      "  #temp#@_7::Int64\n",
      "  i#323::Int64\n",
      "  n#324::Int64\n",
      "  i@_10::Int64\n",
      "  i#325::Int64\n",
      "  i@_12::Int64\n",
      "  #temp#@_13::Int64\n",
      "  k::Int64\n",
      "  na::Int64\n",
      "  #temp#@_16::Bool\n",
      "  #temp#@_17::LambdaInfo\n",
      "  #temp#@_18::Int64\n",
      "  #temp#@_19::Void\n",
      "  ret@_20::Int64\n",
      "  ret@_21::Int64\n",
      "  ret@_22::Int64\n",
      "\n",
      "Body:\n",
      "  begin  # line 19:\n",
      "      NewvarNode(:(result::Array{Int64,1}))\n",
      "      # meta: location In[20] # line 29:\n",
      "      n::Int64 = -1 # line 30:\n",
      "      SSAValue(6) = (Base.nfields)(args::Tuple{Int64,UnitRange{Int64}})::Int64\n",
      "      SSAValue(12) = (Base.select_value)((Base.sle_int)(1,SSAValue(6))::Bool,SSAValue(6),(Base.box)(Int64,(Base.sub_int)(1,1)))::Int64\n",
      "      #temp#@_13::Int64 = 1\n",
      "      10: \n",
      "      unless (Base.box)(Base.Bool,(Base.not_int)((#temp#@_13::Int64 === (Base.box)(Int64,(Base.add_int)(SSAValue(12),1)))::Bool)) goto 51\n",
      "      SSAValue(13) = #temp#@_13::Int64\n",
      "      SSAValue(14) = (Base.box)(Int64,(Base.add_int)(#temp#@_13::Int64,1))\n",
      "      k::Int64 = SSAValue(13)\n",
      "      #temp#@_13::Int64 = SSAValue(14) # line 31:\n",
      "      unless (Core.isa)((Base.getfield)(args::Tuple{Int64,UnitRange{Int64}},k::Int64)\u001b[1m\u001b[31m::Union{Int64,UnitRange{Int64}}\u001b[0m,UnitRange{Int64})\u001b[1m\u001b[31m::Any\u001b[0m goto 20\n",
      "      #temp#@_17::LambdaInfo = LambdaInfo for mylength(::UnitRange{Int64})\n",
      "      goto 29\n",
      "      20: \n",
      "      unless (Core.isa)((Base.getfield)(args::Tuple{Int64,UnitRange{Int64}},k::Int64)\u001b[1m\u001b[31m::Union{Int64,UnitRange{Int64}}\u001b[0m,Int64)\u001b[1m\u001b[31m::Any\u001b[0m goto 24\n",
      "      #temp#@_17::LambdaInfo = LambdaInfo for mylength(::Int64)\n",
      "      goto 29\n",
      "      24: \n",
      "      goto 26\n",
      "      26: \n",
      "      #temp#@_18::Int64 = (Main.mylength)((Base.getfield)(args::Tuple{Int64,UnitRange{Int64}},k::Int64)\u001b[1m\u001b[31m::Union{Int64,UnitRange{Int64}}\u001b[0m)::Int64\n",
      "      goto 31\n",
      "      29: \n",
      "      #temp#@_18::Int64 = $(Expr(:invoke, :(#temp#@_17), :(Main.mylength), :((Base.getfield)(args,k)::Union{Int64,UnitRange{Int64}})))\n",
      "      31: \n",
      "      na::Int64 = #temp#@_18::Int64 # line 32:\n",
      "      unless (n::Int64 === -1)::Bool goto 38 # line 33:\n",
      "      n::Int64 = na::Int64\n",
      "      goto 49\n",
      "      38:  # line 34:\n",
      "      unless (Base.box)(Base.Bool,(Base.not_int)((n::Int64 === na::Int64)::Bool)) goto 43\n",
      "      #temp#@_16::Bool = (Base.box)(Base.Bool,(Base.not_int)((na::Int64 === -1)::Bool))\n",
      "      goto 45\n",
      "      43: \n",
      "      #temp#@_16::Bool = false\n",
      "      45: \n",
      "      unless #temp#@_16::Bool goto 49 # line 35:\n",
      "      (Main.throw)($(Expr(:new, :(Base.DimensionMismatch), \"\")))\u001b[1m\u001b[31m::Union{}\u001b[0m\n",
      "      49: \n",
      "      goto 10\n",
      "      51:  # line 38:\n",
      "      $(Expr(:inbounds, false))\n",
      "      # meta: location error.jl assert 38\n",
      "      unless (Base.sle_int)(0,n::Int64)::Bool goto 58\n",
      "      #temp#@_19::Void = Base.nothing\n",
      "      goto 60\n",
      "      58: \n",
      "      #temp#@_19::Void = (Base.throw)(((Core.getfield)((Core.getfield)(Base.Main,:Base)\u001b[1m\u001b[31m::Any\u001b[0m,:AssertionError)\u001b[1m\u001b[31m::Any\u001b[0m)()\u001b[1m\u001b[31m::Any\u001b[0m)\u001b[1m\u001b[31m::Union{}\u001b[0m\n",
      "      60: \n",
      "      # meta: pop location\n",
      "      $(Expr(:inbounds, :pop))\n",
      "      #temp#@_19::Void # line 40:\n",
      "      result::Array{Int64,1} = (Core.ccall)(:jl_alloc_array_1d,(Core.apply_type)(Core.Array,Int64,1)::Type{Array{Int64,1}},(Core.svec)(Core.Any,Core.Int)::SimpleVector,Array{Int64,1},0,n::Int64,0)::Array{Int64,1} # line 41:\n",
      "      $(Expr(:inbounds, true))\n",
      "      # meta: location simdloop.jl # line 65:\n",
      "      r#322::UnitRange{Int64} = $(Expr(:new, UnitRange{Int64}, 1, :((Base.select_value)((Base.sle_int)(1,n)::Bool,n,(Base.box)(Int64,(Base.sub_int)(1,1)))::Int64))) # line 66:\n",
      "      SSAValue(15) = (Base.select_value)((Base.sle_int)(0,0)::Bool,0,(Base.box)(Int64,(Base.sub_int)(0,1)))::Int64\n",
      "      #temp#@_7::Int64 = 0\n",
      "      74: \n",
      "      unless (Base.box)(Base.Bool,(Base.not_int)((#temp#@_7::Int64 === (Base.box)(Int64,(Base.add_int)(SSAValue(15),1)))::Bool)) goto 149\n",
      "      SSAValue(16) = #temp#@_7::Int64\n",
      "      SSAValue(17) = (Base.box)(Int64,(Base.add_int)(#temp#@_7::Int64,1))\n",
      "      i#323::Int64 = SSAValue(16)\n",
      "      #temp#@_7::Int64 = SSAValue(17) # line 67:\n",
      "      NewvarNode(:(i@_10::Int64))\n",
      "      n#324::Int64 = (Base.Checked.box)(Int64,(Base.Checked.checked_sadd_int)((Base.Checked.box)(Int64,(Base.Checked.checked_ssub_int)((Core.getfield)(r#322::UnitRange{Int64},:stop)::Int64,(Core.getfield)(r#322::UnitRange{Int64},:start)::Int64))::Int64,1))::Int64 # line 68:\n",
      "      unless (Base.slt_int)(0,n#324::Int64)::Bool goto 147 # line 70:\n",
      "      i#325::Int64 = 0 # line 71:\n",
      "      NewvarNode(:(i@_12::Int64))\n",
      "      89: \n",
      "      unless (Base.slt_int)(i#325::Int64,n#324::Int64)::Bool goto 144 # line 72:\n",
      "      $(Expr(:inbounds, false))\n",
      "      # meta: location simdloop.jl simd_index 50\n",
      "      $(Expr(:inbounds, true))\n",
      "      SSAValue(8) = (Base.box)(Int64,(Base.add_int)(i#325::Int64,1))\n",
      "      $(Expr(:inbounds, false))\n",
      "      # meta: location range.jl getindex 467\n",
      "      ret@_21::Int64 = (Base.box)(Int64,(Base.sub_int)((Base.box)(Int64,(Base.add_int)((Core.getfield)(r#322::UnitRange{Int64},:start)::Int64,SSAValue(8))),1)) # line 468:\n",
      "      $(Expr(:boundscheck, true))\n",
      "      SSAValue(9) = (Base.box)(Base.Bool,(Base.and_int)((Base.box)(Base.Bool,(Base.and_int)((Base.slt_int)(0,SSAValue(8))::Bool,(Base.sle_int)(ret@_21::Int64,(Core.getfield)(r#322::UnitRange{Int64},:stop)::Int64)::Bool)),(Base.sle_int)((Core.getfield)(r#322::UnitRange{Int64},:start)::Int64,ret@_21::Int64)::Bool))\n",
      "      unless SSAValue(9) goto 104\n",
      "      goto 106\n",
      "      104: \n",
      "      $(Expr(:invoke, LambdaInfo for throw_boundserror(::UnitRange{Int64}, ::Int64), :(Base.throw_boundserror), :(r#322), SSAValue(8)))\n",
      "      106: \n",
      "      $(Expr(:boundscheck, :pop))\n",
      "      # meta: pop location\n",
      "      $(Expr(:inbounds, :pop))\n",
      "      ret@_20::Int64 = ret@_21::Int64\n",
      "      $(Expr(:inbounds, :pop))\n",
      "      # meta: pop location\n",
      "      $(Expr(:inbounds, :pop))\n",
      "      i@_12::Int64 = ret@_20::Int64 # line 73:\n",
      "      # meta: location In[20] # line 42:\n",
      "      SSAValue(10) = (Base.getfield)(args::Tuple{Int64,UnitRange{Int64}},2)::UnitRange{Int64}\n",
      "      # meta: location In[20] mygetindex 15\n",
      "      $(Expr(:inbounds, false))\n",
      "      # meta: location range.jl getindex 467\n",
      "      ret@_22::Int64 = (Base.box)(Int64,(Base.sub_int)((Base.box)(Int64,(Base.add_int)((Core.getfield)(SSAValue(10),:start)::Int64,i@_12::Int64)),1)) # line 468:\n",
      "      $(Expr(:boundscheck, true))\n",
      "      SSAValue(11) = (Base.box)(Base.Bool,(Base.and_int)((Base.box)(Base.Bool,(Base.and_int)((Base.slt_int)(0,i@_12::Int64)::Bool,(Base.sle_int)(ret@_22::Int64,(Core.getfield)(SSAValue(10),:stop)::Int64)::Bool)),(Base.sle_int)((Core.getfield)(SSAValue(10),:start)::Int64,ret@_22::Int64)::Bool))\n",
      "      unless SSAValue(11) goto 128\n",
      "      goto 130\n",
      "      128: \n",
      "      $(Expr(:invoke, LambdaInfo for throw_boundserror(::UnitRange{Int64}, ::Int64), :(Base.throw_boundserror), SSAValue(10), :(i@_12)))\n",
      "      130: \n",
      "      $(Expr(:boundscheck, :pop))\n",
      "      # meta: pop location\n",
      "      $(Expr(:inbounds, :pop))\n",
      "      # meta: pop location\n",
      "      SSAValue(4) = (Base.box)(Int64,(Base.add_int)((Base.getfield)(args::Tuple{Int64,UnitRange{Int64}},1)::Int64,ret@_22::Int64))\n",
      "      (Base.arrayset)(result::Array{Int64,1},SSAValue(4),i@_12::Int64)::Array{Int64,1}\n",
      "      # meta: pop location # line 74:\n",
      "      i#325::Int64 = (Base.box)(Int64,(Base.add_int)(i#325::Int64,1)) # line 75:\n",
      "      $(Expr(:simdloop))\n",
      "      142: \n",
      "      goto 89\n",
      "      144:  # line 79:\n",
      "      i@_10::Int64 = (Core.getfield)(r#322::UnitRange{Int64},:stop)::Int64\n",
      "      147: \n",
      "      goto 74\n",
      "      149:  # line 84:\n",
      "      Main.nothing\n",
      "      # meta: pop location\n",
      "      $(Expr(:inbounds, :pop)) # line 45:\n",
      "      SSAValue(5) = result::Array{Int64,1}\n",
      "      # meta: pop location\n",
      "      return SSAValue(5)\n",
      "  end::Array{Int64,1}\n"
     ]
    }
   ],
   "source": [
    "@code_warntype mybroadcast(+, 1, 1:10)"
   ]
  },
  {
   "cell_type": "markdown",
   "metadata": {},
   "source": [
    "Good, all of the variables, and also the return value, are marked as having concrete types.\n",
    "\n",
    "Now, let's time it against the built-in `broadcast` function:"
   ]
  },
  {
   "cell_type": "code",
   "execution_count": 24,
   "metadata": {
    "collapsed": false
   },
   "outputs": [
    {
     "data": {
      "text/plain": [
       "0.904869576615546"
      ]
     },
     "execution_count": 24,
     "metadata": {},
     "output_type": "execute_result"
    }
   ],
   "source": [
    "x = rand(10000)\n",
    "@test broadcast(+, x, 1) == mybroadcast(+, x, 1)\n",
    "@benchtime(mybroadcast(+, $x, 1)) / @benchtime(broadcast(+, $x, 1))"
   ]
  },
  {
   "cell_type": "markdown",
   "metadata": {},
   "source": [
    "Hooray, it is the same speed, and in fact slightly faster (probably due to the fact that it is much less general)!\n",
    "\n",
    "Since the `broadcast` function is highly optimized, this is a good indication that we have done about as well as we can do with a reasonable amount of effort, so let's declare victory and move on to the next problem."
   ]
  },
  {
   "cell_type": "markdown",
   "metadata": {},
   "source": [
    "# Problem 3: Linear algebra\n",
    "\n",
    "The first key thing is to realize that\n",
    "\n",
    "$$\n",
    "A = \\begin{pmatrix} \n",
    "        2 & -1 &  &  &  \\\\\n",
    "        -1 & 2 & -1 &  &  \\\\\n",
    "         & \\ddots & \\ddots & \\ddots &   \\\\\n",
    "         &  & -1 & 2 & -1  \\\\\n",
    "         &  &  & -1 & 2 \n",
    "    \\end{pmatrix} + \\begin{pmatrix} \n",
    "        1 & 1 & 1 & 1 & \\cdots \\\\\n",
    "        1 & 1 & 1 & 1 & \\cdots \\\\\n",
    "        1 & 1 & 1 & 1 & \\cdots \\\\\n",
    "        \\vdots & \\vdots & \\vdots & \\vdots & \\cdots \\\\\n",
    "        1 & 1 & 1 & 1 & 1\n",
    "    \\end{pmatrix}\n",
    "= T + oo^T\n",
    "$$\n",
    "\n",
    "where $T$ is a real-symmetric positive-definite matrix (discussed in lecture) and $o$ is a vector of 1's.   This is a **rank-1 update** to $T$.\n",
    "\n",
    "We can multply $Ax = Tx + o(o^T x)$ in $O(m)$ operations, since $T$ is sparse and $o^T x$ is just a dot product, so one approach might be to use some kind of iterative method like preconditioned conjugate-gradient (since $A$ is real-symmetric positive-definite).\n",
    "\n",
    "However, since we can multiply by $T^{-1}$ quickly, in $O(m)$ time in fact, we can use the [Sherman–Morrison formula](https://en.wikipedia.org/wiki/Sherman%E2%80%93Morrison_formula) to apply the inverse of the rank-1 update $A$:\n",
    "\n",
    "$$\n",
    "(T + oo^T)^{-1}b = T^{-1}b - \\frac{T^{-1}o o^T T^{-1}b}{1 + o^T T^{-1} o}\n",
    "$$\n",
    "which requires us to solve only $T^{-1} b$ and $T^{-1} o$ and then do some dot products and other simple operations.\n",
    "\n",
    "Let's implement this."
   ]
  },
  {
   "cell_type": "code",
   "execution_count": 25,
   "metadata": {
    "collapsed": false
   },
   "outputs": [
    {
     "data": {
      "text/plain": [
       "mysolve_slow (generic function with 1 method)"
      ]
     },
     "execution_count": 25,
     "metadata": {},
     "output_type": "execute_result"
    }
   ],
   "source": [
    "# The slow O(m^3) method included with the pset, for comparison.\n",
    "\n",
    "function mymatrix{T}(::Type{T}, m::Int)\n",
    "    A = ones(T, m, m)\n",
    "    for i = 1:m\n",
    "        A[i,i] = 3\n",
    "    end\n",
    "    for i = 1:m-1\n",
    "        A[i,i+1] = A[i+1,i] = 0\n",
    "    end\n",
    "    return A\n",
    "end\n",
    "      \n",
    "mymatrix(m::Integer) = mymatrix(Int, Int(m))\n",
    "\n",
    "# solve Ax = b, returning x, for the \"mostly ones\" matrix A above\n",
    "function mysolve_slow{T<:Number}(b::AbstractVector{T})\n",
    "    m = length(b)\n",
    "    A = mymatrix(float(T), m)\n",
    "    return A \\ b\n",
    "end"
   ]
  },
  {
   "cell_type": "markdown",
   "metadata": {},
   "source": [
    "Here's our first try at an O(m) method, with the most obvious implementation, exploiting Julia's `SymTridiagonal` matrix type for $T$:"
   ]
  },
  {
   "cell_type": "code",
   "execution_count": 26,
   "metadata": {
    "collapsed": false
   },
   "outputs": [
    {
     "data": {
      "text/plain": [
       "mysolve1 (generic function with 1 method)"
      ]
     },
     "execution_count": 26,
     "metadata": {},
     "output_type": "execute_result"
    }
   ],
   "source": [
    "function mysolve1{S<:Number}(b::AbstractVector{S})\n",
    "    m = length(b)\n",
    "    T = SymTridiagonal([2 for i=1:m], [-1 for i=1:m-1])\n",
    "    o = ones(b)\n",
    "    T⁻¹o = T \\ o\n",
    "    T⁻¹b = T \\ b\n",
    "    return T⁻¹b - T⁻¹o * (dot(o,T⁻¹b) / (1 + dot(o,T⁻¹o)))\n",
    "end"
   ]
  },
  {
   "cell_type": "code",
   "execution_count": 27,
   "metadata": {
    "collapsed": false
   },
   "outputs": [
    {
     "data": {
      "text/plain": [
       "BenchmarkTools.Trial: \n",
       "  memory estimate:  15.27 MiB\n",
       "  allocs estimate:  12\n",
       "  --------------\n",
       "  minimum time:     13.857 ms (0.00% GC)\n",
       "  median time:      15.393 ms (9.80% GC)\n",
       "  mean time:        15.136 ms (8.19% GC)\n",
       "  maximum time:     17.822 ms (8.43% GC)\n",
       "  --------------\n",
       "  samples:          330\n",
       "  evals/sample:     1\n",
       "  time tolerance:   5.00%\n",
       "  memory tolerance: 1.00%"
      ]
     },
     "execution_count": 27,
     "metadata": {},
     "output_type": "execute_result"
    }
   ],
   "source": [
    "b = rand(1000)\n",
    "@test mysolve_slow(b) ≈ mysolve1(b)\n",
    "bench_slow = @benchmark mysolve_slow($b)"
   ]
  },
  {
   "cell_type": "code",
   "execution_count": 28,
   "metadata": {
    "collapsed": false
   },
   "outputs": [
    {
     "data": {
      "text/plain": [
       "BenchmarkTools.Trial: \n",
       "  memory estimate:  87.80 KiB\n",
       "  allocs estimate:  33\n",
       "  --------------\n",
       "  minimum time:     45.918 μs (0.00% GC)\n",
       "  median time:      53.191 μs (0.00% GC)\n",
       "  mean time:        67.808 μs (11.70% GC)\n",
       "  maximum time:     3.913 ms (97.44% GC)\n",
       "  --------------\n",
       "  samples:          10000\n",
       "  evals/sample:     1\n",
       "  time tolerance:   5.00%\n",
       "  memory tolerance: 1.00%"
      ]
     },
     "execution_count": 28,
     "metadata": {},
     "output_type": "execute_result"
    }
   ],
   "source": [
    "bench1 = @benchmark mysolve1($b)"
   ]
  },
  {
   "cell_type": "markdown",
   "metadata": {
    "collapsed": false
   },
   "source": [
    "This is almost a factor of 1000 improvement in both memory and time, which is not surprising.  If anything, it is amazing that the improvement is not greater, considering that we went from $O(m^3)$ to $O(m)$ complexity.\n",
    "\n",
    "There are various ways to make it faster:\n",
    "\n",
    "* `T \\ o` and `T \\ b` actually [computes a factorization](https://github.com/JuliaLang/julia/blob/079b1c3b18c683c9aa1282aa159f462177074312/base/linalg/tridiag.jl#L163) (an $L D L^T$ factorization) of `T` twice.  (Moreover, it doesn't take advantage of the fact that `T` is positive-definite.)\n",
    "\n",
    "* `dot(o,x)` could be replaced with simply `sum(x)`.\n",
    "\n",
    "* Our final expression allocates a bunch of temporary arrays.  We should fuse the loops and allocate only a single output array.  (This will be easier in Julia 0.6 due to the [new fused vectorization syntax](http://julialang.org/blog/2017/01/moredots).)\n",
    "\n",
    "* Since the entries of `T` are just 2 and -1, we shouldn't actually need to store `T` at all.  We should be able to hard-code the factorization computation specifically for this matrix if we are ambitious.  It's helpful here to look at the [source code for the factorization of `SymTridiagonal`](https://github.com/JuliaLang/julia/blob/079b1c3b18c683c9aa1282aa159f462177074312/base/linalg/ldlt.jl#L18-L77).\n",
    "\n",
    "Let's addres the first three issues, since they are easy:"
   ]
  },
  {
   "cell_type": "code",
   "execution_count": 29,
   "metadata": {
    "collapsed": false
   },
   "outputs": [
    {
     "data": {
      "text/plain": [
       "mysolve (generic function with 1 method)"
      ]
     },
     "execution_count": 29,
     "metadata": {},
     "output_type": "execute_result"
    }
   ],
   "source": [
    "# SOLUTION:\n",
    "\n",
    "function mysolve{S<:Number}(b::AbstractVector{S})\n",
    "    m = length(b)\n",
    "    Sf = typeof(inv(one(S))) # compute type of the output arrays\n",
    "                             # (this will be inferred at compile-time)\n",
    "    T = SymTridiagonal(Sf[2 for i=1:m], Sf[-1 for i=1:m-1])\n",
    "    LDLᵀ = ldltfact!(T) # compute factorization in-place, overwriting T\n",
    "    T⁻¹o = A_ldiv_B!(LDLᵀ, ones(Sf, m)) # overwrites ones array in-place\n",
    "    T⁻¹b = LDLᵀ \\ b\n",
    "    α = sum(T⁻¹b) / (1 + sum(T⁻¹o))\n",
    "    x = Vector{Sf}(m)\n",
    "    @inbounds @simd for i = 1:m\n",
    "        x[i] = T⁻¹b[i] - T⁻¹o[i] * α\n",
    "    end\n",
    "    return x\n",
    "end"
   ]
  },
  {
   "cell_type": "code",
   "execution_count": 30,
   "metadata": {
    "collapsed": false
   },
   "outputs": [
    {
     "data": {
      "text/plain": [
       "BenchmarkTools.TrialJudgement: \n",
       "  time:   -47.28% => improvement (5.00% tolerance)\n",
       "  memory: -54.60% => improvement (1.00% tolerance)"
      ]
     },
     "execution_count": 30,
     "metadata": {},
     "output_type": "execute_result"
    }
   ],
   "source": [
    "@test mysolve(b) ≈ mysolve1(b)\n",
    "bench2 = @benchmark mysolve($b)\n",
    "judge(minimum(bench2), minimum(bench1)) # compare the two results"
   ]
  },
  {
   "cell_type": "markdown",
   "metadata": {
    "collapsed": true
   },
   "source": [
    "Almost a factor of two improvement in both time and memory allocation, which is nice but not overwhelming.  It's probably not worth the trouble to try to squeeze any more speed out of this function, though marginal improvements are no doubt possible.\n",
    "\n",
    "(A good check, not shown here, is to run `@code_warntype mysolve(b)` to make sure that the compiler is able to infer all of the types in the function.  You should find that the result type is correctly inferred as `Vector{Float64}`, and there are no other type instabilities.)"
   ]
  }
 ],
 "metadata": {
  "anaconda-cloud": {},
  "kernelspec": {
   "display_name": "Julia 0.5.0",
   "language": "julia",
   "name": "julia-0.5"
  },
  "language_info": {
   "file_extension": ".jl",
   "mimetype": "application/julia",
   "name": "julia",
   "version": "0.5.0"
  }
 },
 "nbformat": 4,
 "nbformat_minor": 2
}
