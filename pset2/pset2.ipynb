{
 "cells": [
  {
   "cell_type": "markdown",
   "metadata": {},
   "source": [
    "# Problem 1: Continued Fractions\n",
    "\n",
    "In this problem, you will write a macro, analogous to the `@evalpoly` macro in Base (discussed in lecture 4) that computes a truncated [continued-fraction expansion](https://en.wikipedia.org/wiki/Continued_fraction).  That is,\n",
    "\n",
    "```jl\n",
    "@cf x a0 a1 a2 a3 a4\n",
    "```\n",
    "\n",
    "will compute\n",
    "\n",
    "$$\n",
    "\\frac{1}{x + \\frac{a_0}{x + \\frac{a_1}{x + \\frac{a_2}{x + \\frac{a_3}{x + a_4}}}}}\n",
    "$$\n",
    "\n",
    "Note that `x` can be a real or complex number or any other type supporting `+` and `/`.\n",
    "\n",
    "Ideally, your implementation should completely inline the computation, like `@evalpoly` and `Base.@horner`.  It may perform some algebraic transformation on the expression to simplify it first (e.g. to reduce the number of divisions).   You don't need to worry about roundoff errors (i.e. you can do algebraic transformations that may slightly change the rounding errors in floating-point arithmetic).\n",
    "\n",
    "To start you off, here is a sample implemenation, that just does a function call (with the most obvious expression) and is rather slow:"
   ]
  },
  {
   "cell_type": "code",
   "execution_count": 3,
   "metadata": {
    "collapsed": false
   },
   "outputs": [
    {
     "data": {
      "text/plain": [
       "cf (generic function with 1 method)"
      ]
     },
     "execution_count": 3,
     "metadata": {},
     "output_type": "execute_result"
    }
   ],
   "source": [
    "function cf(x, a...)\n",
    "    z = inv(one(x)) # initialize z this way for type stability\n",
    "    for i = length(a):-1:1\n",
    "        z = x + a[i] / z\n",
    "    end\n",
    "    return inv(z)\n",
    "end"
   ]
  },
  {
   "cell_type": "code",
   "execution_count": 4,
   "metadata": {
    "collapsed": false
   },
   "outputs": [
    {
     "data": {
      "text/plain": [
       "@cf (macro with 1 method)"
      ]
     },
     "execution_count": 4,
     "metadata": {},
     "output_type": "execute_result"
    }
   ],
   "source": [
    "macro cf(x, a...)\n",
    "    Expr(:call, :cf, x, a...)\n",
    "end"
   ]
  },
  {
   "cell_type": "code",
   "execution_count": 5,
   "metadata": {
    "collapsed": false
   },
   "outputs": [
    {
     "data": {
      "text/plain": [
       "0.24242424242424243"
      ]
     },
     "execution_count": 5,
     "metadata": {},
     "output_type": "execute_result"
    }
   ],
   "source": [
    "@cf 3 4 5 6"
   ]
  },
  {
   "cell_type": "code",
   "execution_count": 6,
   "metadata": {
    "collapsed": false
   },
   "outputs": [
    {
     "data": {
      "text/plain": [
       "756//3047"
      ]
     },
     "execution_count": 6,
     "metadata": {},
     "output_type": "execute_result"
    }
   ],
   "source": [
    "@cf 3//4 5 6 7 # exact rational arithmetic"
   ]
  },
  {
   "cell_type": "markdown",
   "metadata": {},
   "source": [
    "To see that we are doing the right thing, it would be nice to evaluate the expression symbolically and see it nicely formatted.  Fortunately, we can do just this with the [SymPy](https://github.com/JuliaPy/SymPy.jl) package.  (Do `Pkg.add(\"SymPy\")` if you have not installed it yet.)"
   ]
  },
  {
   "cell_type": "code",
   "execution_count": 7,
   "metadata": {
    "collapsed": false
   },
   "outputs": [
    {
     "data": {
      "text/latex": [
       "$$\\frac{1}{x + \\frac{3}{x + \\frac{4}{x + \\frac{5}{x + 6}}}}$$"
      ],
      "text/plain": [
       "        1        \n",
       "-----------------\n",
       "          3      \n",
       "x + -------------\n",
       "            4    \n",
       "    x + ---------\n",
       "              5  \n",
       "        x + -----\n",
       "            x + 6"
      ]
     },
     "execution_count": 7,
     "metadata": {},
     "output_type": "execute_result"
    }
   ],
   "source": [
    "using SymPy\n",
    "\n",
    "@cf Sym(:x) 3 4 5 6"
   ]
  },
  {
   "cell_type": "markdown",
   "metadata": {},
   "source": [
    "Note that the `Sym(:x)` function creates a \"symbolic\" expression $x$, so that subsequent computations on it produce new symbolic expressions, and the final symbolic expression is rendered nicely in the notebook.   See the SymPy documentation for more on this cool package — under the hood, it is using the powerful [Python SymPy](http://www.sympy.org/en/index.html) module for symbolic algebra."
   ]
  },
  {
   "cell_type": "markdown",
   "metadata": {},
   "source": [
    "# Problem 2: implementing broadcast\n",
    "\n",
    "The `broadcast(f, args...)` function in Julia is very powerful: it takes a function `f` and applies it \"elementwise\" to each argument, but \"expands\" (or \"broadcasts\") lower-dimensional arguments to match higher-dimensional ones.  Implementing such a function efficiently is rather tricky, however.\n",
    "\n",
    "In this problem, you will implement your *own* `broadcast` function, which only works for *numbers and vectors of numbers*.   We will start with a slow (but working) implementation and you will try to make it faster.\n",
    "\n",
    "(No fair calling Julia's built-in `broadcast`, though!)"
   ]
  },
  {
   "cell_type": "code",
   "execution_count": 8,
   "metadata": {
    "collapsed": false
   },
   "outputs": [
    {
     "data": {
      "text/plain": [
       "mybroadcast (generic function with 3 methods)"
      ]
     },
     "execution_count": 8,
     "metadata": {},
     "output_type": "execute_result"
    }
   ],
   "source": [
    "# handle the no-argument and all-number special cases so that we\n",
    "# don't need to deal with them in the general version below:\n",
    "mybroadcast(f::Function) = f()\n",
    "mybroadcast(f::Function, args::Number...) = f(args...)\n",
    "\n",
    "# like broadcast, but only works for numbers and vectors of numbers\n",
    "function mybroadcast(f::Function, args::Union{Number,AbstractVector}...)\n",
    "    assert(!isempty(args)) # empty case should be handled above\n",
    "    \n",
    "    # compute the length and type of the result:\n",
    "    n = -1\n",
    "    T = Bool\n",
    "    for a in args\n",
    "        if isa(a, AbstractVector)\n",
    "            if n == -1\n",
    "                n = length(a)\n",
    "            elseif n != length(a)\n",
    "                throw(DimensionMismatch())\n",
    "            end\n",
    "            T = promote_type(T, eltype(a))\n",
    "        else\n",
    "            T = promote_type(T, typeof(a))\n",
    "        end\n",
    "    end\n",
    "    assert(n >= 0) # should have been at least one vector arg\n",
    "    result = Array{T}(n)\n",
    "    \n",
    "    for i = 1:n\n",
    "        result[i] = f(map(a -> isa(a, AbstractVector) ? a[i] : a, args)...)\n",
    "    end\n",
    "    \n",
    "    return result\n",
    "end"
   ]
  },
  {
   "cell_type": "code",
   "execution_count": 9,
   "metadata": {
    "collapsed": false
   },
   "outputs": [
    {
     "data": {
      "text/plain": [
       "10-element Array{Int64,1}:\n",
       "  2\n",
       "  3\n",
       "  4\n",
       "  5\n",
       "  6\n",
       "  7\n",
       "  8\n",
       "  9\n",
       " 10\n",
       " 11"
      ]
     },
     "execution_count": 9,
     "metadata": {},
     "output_type": "execute_result"
    }
   ],
   "source": [
    "mybroadcast(+, 1, 1:10)"
   ]
  },
  {
   "cell_type": "code",
   "execution_count": 10,
   "metadata": {
    "collapsed": false
   },
   "outputs": [
    {
     "data": {
      "text/plain": [
       "3-element Array{Int64,1}:\n",
       "   12\n",
       "  103\n",
       " 1004"
      ]
     },
     "execution_count": 10,
     "metadata": {},
     "output_type": "execute_result"
    }
   ],
   "source": [
    "mybroadcast(+, 1, 1:3, [10,100,1000])"
   ]
  },
  {
   "cell_type": "markdown",
   "metadata": {},
   "source": [
    "Hooray, it seems to work!\n",
    "\n",
    "Actually, it's not quite right, because it assumes that the `result` type can be determined purely from the types of the *arguments*, when in fact it also depends on the *function* `f`:"
   ]
  },
  {
   "cell_type": "code",
   "execution_count": 11,
   "metadata": {
    "collapsed": false
   },
   "outputs": [
    {
     "data": {
      "text/plain": [
       "3-element Array{Float64,1}:\n",
       " 1.0    \n",
       " 1.41421\n",
       " 1.73205"
      ]
     },
     "execution_count": 11,
     "metadata": {},
     "output_type": "execute_result"
    }
   ],
   "source": [
    "broadcast(sqrt, 1:3)"
   ]
  },
  {
   "cell_type": "code",
   "execution_count": 12,
   "metadata": {
    "collapsed": false
   },
   "outputs": [
    {
     "ename": "LoadError",
     "evalue": "InexactError()",
     "output_type": "error",
     "traceback": [
      "InexactError()",
      "",
      " in setindex!(::Array{Int64,1}, ::Float64, ::Int64) at ./array.jl:415",
      " in mybroadcast(::Function, ::UnitRange{Int64}, ::Vararg{UnitRange{Int64},N}) at ./In[8]:29"
     ]
    }
   ],
   "source": [
    "mybroadcast(sqrt, 1:3)"
   ]
  },
  {
   "cell_type": "markdown",
   "metadata": {},
   "source": [
    "It gives an `InexactError` because it thinks that `result` is an `Array{Int,1}`, matching `eltype(1:3)`, when in fact the `sqrt` function produces a floating-point result from an integer argument.  A floating-point result like `sqrt(2)` cannot be stored in an array of integers, so an exception is thrown.\n",
    "\n",
    "Handling this kind of \"type computation\" properly is *very* tricky.   For the problem set, we will punt: **we will only use `mybroadcast` with functions whose output type can be computed simply from the arguments as above**."
   ]
  },
  {
   "cell_type": "markdown",
   "metadata": {},
   "source": [
    "Now, let's time it against the built-in `broadcast` function:"
   ]
  },
  {
   "cell_type": "code",
   "execution_count": 13,
   "metadata": {
    "collapsed": false
   },
   "outputs": [
    {
     "data": {
      "text/plain": [
       "@benchtime"
      ]
     },
     "execution_count": 13,
     "metadata": {},
     "output_type": "execute_result"
    }
   ],
   "source": [
    "using BenchmarkTools\n",
    "\n",
    "\"\"\"\n",
    "Like `@benchmark`, but returns only the minimum time in ns.\n",
    "\"\"\"\n",
    "macro benchtime(args...)\n",
    "    b = Expr(:macrocall, Symbol(\"@benchmark\"), map(esc, args)...)\n",
    "    :(time(minimum($b)))\n",
    "end"
   ]
  },
  {
   "cell_type": "code",
   "execution_count": 14,
   "metadata": {
    "collapsed": true
   },
   "outputs": [],
   "source": [
    "using Base.Test # gives us the handy @test macro"
   ]
  },
  {
   "cell_type": "code",
   "execution_count": 15,
   "metadata": {
    "collapsed": false
   },
   "outputs": [
    {
     "data": {
      "text/plain": [
       "1029.19816700611"
      ]
     },
     "execution_count": 15,
     "metadata": {},
     "output_type": "execute_result"
    }
   ],
   "source": [
    "x = rand(10000)\n",
    "@test broadcast(+, x, 1) == mybroadcast(+, x, 1)\n",
    "@benchtime(mybroadcast(+, $x, 1)) / @benchtime(broadcast(+, $x, 1))"
   ]
  },
  {
   "cell_type": "markdown",
   "metadata": {},
   "source": [
    "Holy cow!  Our `mybroadcast` function is **1000×** slower than `broadcast`.  But one *must* be able to do better — the `broadcast` function itself is written in Julia, with no special help from the compiler.  Can you?\n",
    "\n",
    "Hint: the key trick is to make sure that (a) the compiler can figure out things like `T` at *compile-time* and (b) all of those `if` statements are decided at *compile-time*."
   ]
  },
  {
   "cell_type": "markdown",
   "metadata": {},
   "source": [
    "# Problem 3: Linear algebra\n",
    "\n",
    "Huge gains in performance can be achieved for *sparse* matrices: matrices that are mostly zero.\n",
    "\n",
    "However, what about matrices that are mostly some *other* value?  e.g. suppose you have a matrix that is mostly 1's, like:\n",
    "\n",
    "$$\n",
    "A = \\begin{pmatrix} \n",
    "        3 & 0 & 1 & 1 & 1 & \\cdots \\\\\n",
    "        0 & 3 & 0 & 1 & 1 & \\cdots \\\\\n",
    "        1 & 0 & 3 & 0 & 1 & \\cdots \\\\\n",
    "        \\ddots & \\ddots & \\ddots & \\ddots & \\ddots & \\cdots \\\\\n",
    "        \\cdots & 1 & 1 & 1 & 0 & 3\n",
    "    \\end{pmatrix}\n",
    "$$\n",
    "\n",
    "Can you solve $Ax = b$ quickly?  That is, speed up the `mysolve` function:"
   ]
  },
  {
   "cell_type": "code",
   "execution_count": 16,
   "metadata": {
    "collapsed": false
   },
   "outputs": [
    {
     "data": {
      "text/plain": [
       "mysolve (generic function with 1 method)"
      ]
     },
     "execution_count": 16,
     "metadata": {},
     "output_type": "execute_result"
    }
   ],
   "source": [
    "function mymatrix{T}(::Type{T}, m::Int)\n",
    "    A = ones(T, m, m)\n",
    "    for i = 1:m\n",
    "        A[i,i] = 3\n",
    "    end\n",
    "    for i = 1:m-1\n",
    "        A[i,i+1] = A[i+1,i] = 0\n",
    "    end\n",
    "    return A\n",
    "end\n",
    "      \n",
    "mymatrix(m::Integer) = mymatrix(Int, Int(m))\n",
    "\n",
    "# solve Ax = b, returning x, for the \"mostly ones\" matrix A above\n",
    "function mysolve{T<:Number}(b::AbstractVector{T})\n",
    "    m = length(b)\n",
    "    A = mymatrix(float(T), m)\n",
    "    return A \\ b\n",
    "end"
   ]
  },
  {
   "cell_type": "markdown",
   "metadata": {},
   "source": [
    "Let's just check that the matrix looks like what we expect, and that it is invertible:"
   ]
  },
  {
   "cell_type": "code",
   "execution_count": 17,
   "metadata": {
    "collapsed": false
   },
   "outputs": [
    {
     "data": {
      "text/plain": [
       "6×6 Array{Int64,2}:\n",
       " 3  0  1  1  1  1\n",
       " 0  3  0  1  1  1\n",
       " 1  0  3  0  1  1\n",
       " 1  1  0  3  0  1\n",
       " 1  1  1  0  3  0\n",
       " 1  1  1  1  0  3"
      ]
     },
     "execution_count": 17,
     "metadata": {},
     "output_type": "execute_result"
    }
   ],
   "source": [
    "mymatrix(6)"
   ]
  },
  {
   "cell_type": "code",
   "execution_count": 18,
   "metadata": {
    "collapsed": false
   },
   "outputs": [
    {
     "data": {
      "text/plain": [
       "6-element Array{Float64,1}:\n",
       " 0.75302\n",
       " 1.42423\n",
       " 2.44504\n",
       " 3.18728\n",
       " 3.80194\n",
       " 6.38849"
      ]
     },
     "execution_count": 18,
     "metadata": {},
     "output_type": "execute_result"
    }
   ],
   "source": [
    "eigvals(mymatrix(6))"
   ]
  },
  {
   "cell_type": "markdown",
   "metadata": {},
   "source": [
    "Yup, all positive eigenvalues in fact! (Can you prove this?)\n",
    "\n",
    "`mysolve` will be relatively slow, dominated by the $O(m^3)$ operations for the `\\`:"
   ]
  },
  {
   "cell_type": "code",
   "execution_count": 19,
   "metadata": {
    "collapsed": false
   },
   "outputs": [
    {
     "data": {
      "text/plain": [
       "BenchmarkTools.Trial: \n",
       "  samples:          302\n",
       "  evals/sample:     1\n",
       "  time tolerance:   5.00%\n",
       "  memory tolerance: 1.00%\n",
       "  memory estimate:  15.27 mb\n",
       "  allocs estimate:  12\n",
       "  minimum time:     13.92 ms (0.00% GC)\n",
       "  median time:      15.52 ms (10.18% GC)\n",
       "  mean time:        16.56 ms (8.67% GC)\n",
       "  maximum time:     24.06 ms (12.33% GC)"
      ]
     },
     "execution_count": 19,
     "metadata": {},
     "output_type": "execute_result"
    }
   ],
   "source": [
    "b = rand(1000)\n",
    "bench = @benchmark mysolve($b)"
   ]
  },
  {
   "cell_type": "markdown",
   "metadata": {},
   "source": [
    "If you think about it, this is actually pretty fast.  Gaussian elimination requires $2m^3/3 + O(m)$ flops, so let's compute the flop rate in gigaflops that we are getting:"
   ]
  },
  {
   "cell_type": "code",
   "execution_count": 20,
   "metadata": {
    "collapsed": false
   },
   "outputs": [
    {
     "data": {
      "text/plain": [
       "47.90813901792147"
      ]
     },
     "execution_count": 20,
     "metadata": {},
     "output_type": "execute_result"
    }
   ],
   "source": [
    "length(b)^3 * 2/3 / time(minimum(bench))"
   ]
  },
  {
   "cell_type": "markdown",
   "metadata": {},
   "source": [
    "So, we are getting **almost 50 Gflops** on my **2.5 GHz** laptop.  Modern linear-algebra libraries (here, LAPACK and OpenBLAS) are amazing.  But you can do better!\n",
    "\n",
    "Hint: focus on the $O(m^3)$ operations for the solve first, not the $O(m^2)$ operations to construct the matrix.  See if you can write $A$ as \"sparse + nice\"."
   ]
  }
 ],
 "metadata": {
  "anaconda-cloud": {},
  "kernelspec": {
   "display_name": "Julia 0.5.0",
   "language": "julia",
   "name": "julia-0.5"
  },
  "language_info": {
   "file_extension": ".jl",
   "mimetype": "application/julia",
   "name": "julia",
   "version": "0.5.0"
  }
 },
 "nbformat": 4,
 "nbformat_minor": 2
}
