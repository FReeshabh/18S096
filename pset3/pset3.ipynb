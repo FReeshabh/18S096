{
 "cells": [
  {
   "cell_type": "markdown",
   "metadata": {},
   "source": [
    "# Problem 1: Exponential integrals\n",
    "\n",
    "In this problem, you will write code to compute the [exponential integral](https://en.wikipedia.org/wiki/Exponential_integral) function\n",
    "$$\n",
    "E_1(z) = \\int_z^\\infty \\frac{e^{-t}}{t} dt\n",
    "$$\n",
    "For simplicity, you only need to compute it for $\\Re z \\ge 0$, in which case the definition can be rewritten\n",
    "$$\n",
    "E_1(z) = \\int_0^1 \\frac{e^{-z/u}}{u} du\n",
    "$$\n",
    "A simplistic implementation of this function is just to directly perform the integral numerically:"
   ]
  },
  {
   "cell_type": "code",
   "execution_count": 6,
   "metadata": {
    "collapsed": false
   },
   "outputs": [
    {
     "name": "stderr",
     "output_type": "stream",
     "text": [
      "WARNING: Method definition E₁(Union{Base.Complex{#T<:Real}, #T<:Real}) in module Main at In[1]:2 overwritten at In[6]:2.\n"
     ]
    },
    {
     "data": {
      "text/plain": [
       "E₁ (generic function with 1 method)"
      ]
     },
     "execution_count": 6,
     "metadata": {},
     "output_type": "execute_result"
    }
   ],
   "source": [
    "function E₁{T<:Real}(z::Union{T,Complex{T}})\n",
    "    real(z) < 0 && error(\"real(z) < 0 not implemented\")\n",
    "    return quadgk(u -> exp(-z/u)/u, 0, 1, reltol=eps(T)*10)[1]\n",
    "end"
   ]
  },
  {
   "cell_type": "code",
   "execution_count": 2,
   "metadata": {
    "collapsed": false
   },
   "outputs": [
    {
     "data": {
      "text/plain": [
       "0.1584084368514626"
      ]
     },
     "execution_count": 2,
     "metadata": {},
     "output_type": "execute_result"
    }
   ],
   "source": [
    "E₁(1.2)"
   ]
  },
  {
   "cell_type": "markdown",
   "metadata": {},
   "source": [
    "To check this, a useful resource is [WolframAlpha](https://www.wolframalpha.com), which can compute $E_1(z)$ by `ExpIntegralE[1,z]`.  For $E_1(1.2)$, [we get](https://www.wolframalpha.com/input/?i=ExpIntegralE%5B1,1.2%5D) `0.158408436851462561424955970710861738534157976840578963378...`.  Compared to the above result, this corresponds to a relative error of:"
   ]
  },
  {
   "cell_type": "code",
   "execution_count": 9,
   "metadata": {
    "collapsed": false
   },
   "outputs": [
    {
     "data": {
      "text/plain": [
       "3.5043052210224057e-16"
      ]
     },
     "execution_count": 9,
     "metadata": {},
     "output_type": "execute_result"
    }
   ],
   "source": [
    "# compute the relative error of approx compared to exact\n",
    "relerr(approx,exact) = norm(approx - exact) / norm(exact)\n",
    "\n",
    "relerr(E₁(1.2), 0.158408436851462561424955970710861738534157976840578963378)"
   ]
  },
  {
   "cell_type": "markdown",
   "metadata": {},
   "source": [
    "Hooray, we are getting the right result to nearly machine precision!  We can even do complex values this way:"
   ]
  },
  {
   "cell_type": "code",
   "execution_count": 10,
   "metadata": {
    "collapsed": false
   },
   "outputs": [
    {
     "data": {
      "text/plain": [
       "1.886647948886305e-16"
      ]
     },
     "execution_count": 10,
     "metadata": {},
     "output_type": "execute_result"
    }
   ],
   "source": [
    "relerr(E₁(1.2 + 3.4im),\n",
    "       -0.0196798781439709839467398951111963946354437628483798953 +\n",
    "        0.0708764302707789307217865597073426047954413415009995511im)"
   ]
  },
  {
   "cell_type": "markdown",
   "metadata": {},
   "source": [
    "Yup, it's working for complex $z$ too!\n",
    "\n",
    "However, this approach to computing $E_1$ is *insanely slow* compared to highly optimized implementations.   **Your task is to write**\n",
    "```jl\n",
    "E₁(z::Union{Float64,Complex{Float64}}) = ...?...\n",
    "```\n",
    "and make it much faster than the generic version above, but only for double precision (`Float64` real or complex numbers).  You should have a **relative error** (as computed by `relerr`, above) of $< 10^{-13}$ for all $z$.\n",
    "\n",
    "Some techniques you can use are polynomial expansions (e.g. Taylor series), continued-fraction expansions, other rational approximants, along with recurrence relations and other identities.  You will find [this page listing many identities and expansions](http://functions.wolfram.com/GammaBetaErf/ExpIntegralE/) to be helpful."
   ]
  },
  {
   "cell_type": "markdown",
   "metadata": {},
   "source": [
    "# Problem 2: Parallel mapreduce\n",
    "\n",
    "Your task is to speed up the function `myreduce(⊕, n)` that computes\n",
    "$$\n",
    "    1 \\oplus 2 \\oplus 3 \\oplus \\cdots \\oplus n\n",
    "$$\n",
    "for $n \\ge 0$, where $\\oplus$ is a caller-supplied **commutative binary function** `⊕(x,y)`.  (You are allowed to assume commutativity to make the parallelization easier.)  A simple serial implementation is:"
   ]
  },
  {
   "cell_type": "code",
   "execution_count": 13,
   "metadata": {
    "collapsed": false
   },
   "outputs": [
    {
     "name": "stderr",
     "output_type": "stream",
     "text": [
      "WARNING: Method definition myreduce(Any, Any) in module Main at In[11]:1 overwritten at In[13]:1.\n"
     ]
    },
    {
     "data": {
      "text/plain": [
       "myreduce (generic function with 1 method)"
      ]
     },
     "execution_count": 13,
     "metadata": {},
     "output_type": "execute_result"
    }
   ],
   "source": [
    "myreduce(⊕, n) = reduce(⊕, 1:n)"
   ]
  },
  {
   "cell_type": "code",
   "execution_count": 14,
   "metadata": {
    "collapsed": false
   },
   "outputs": [
    {
     "data": {
      "text/plain": [
       "true"
      ]
     },
     "execution_count": 14,
     "metadata": {},
     "output_type": "execute_result"
    }
   ],
   "source": [
    "myreduce(+, 1000) == 500500"
   ]
  },
  {
   "cell_type": "markdown",
   "metadata": {},
   "source": [
    "The goal is to use parallelism.  You function will run on a parallel computer where `addprocs` *has already been called* (you are not allowed to call it), and you can use Julia's [parallel-computing constructs](http://docs.julialang.org/en/stable/manual/parallel-computing/) to parallelize the `myreduce` function.\n",
    "\n",
    "You are allowed to [DistributedArrays](https://github.com/JuliaParallel/DistributedArrays.jl) or any other Julia package you want, if it is helpful.\n",
    "\n",
    "**There is a catch**, however: the `⊕(x,y)` function may be *much slower* for some `x,y` than for others, and as a result it will not be efficient to simply divide the numbers `1:n` up equally between the workers.\n",
    "\n",
    "For example, here is a `⊕` function that is much slower for smaller `x,y` than for larger `x,y`:"
   ]
  },
  {
   "cell_type": "code",
   "execution_count": 15,
   "metadata": {
    "collapsed": false
   },
   "outputs": [
    {
     "data": {
      "text/plain": [
       "500500"
      ]
     },
     "execution_count": 15,
     "metadata": {},
     "output_type": "execute_result"
    }
   ],
   "source": [
    "function weirdplus(x,y)\n",
    "    sleep(1e-3 / (x+y)) # wait for some number of seconds\n",
    "    return x + y\n",
    "end\n",
    "myreduce(weirdplus, 1000)"
   ]
  },
  {
   "cell_type": "markdown",
   "metadata": {},
   "source": [
    "You do not know in advance which arguments will be the expensive ones.  Can you still exploit parallelism?"
   ]
  }
 ],
 "metadata": {
  "anaconda-cloud": {},
  "kernelspec": {
   "display_name": "Julia 0.5.0",
   "language": "julia",
   "name": "julia-0.5"
  },
  "language_info": {
   "file_extension": ".jl",
   "mimetype": "application/julia",
   "name": "julia",
   "version": "0.5.0"
  }
 },
 "nbformat": 4,
 "nbformat_minor": 1
}
